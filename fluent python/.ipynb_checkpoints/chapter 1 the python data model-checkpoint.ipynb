{
 "cells": [
  {
   "cell_type": "code",
   "execution_count": 16,
   "metadata": {},
   "outputs": [],
   "source": [
    "import collections\n",
    "\n",
    "Card = collections.namedtuple(\"card\",[\"rank\",\"suit\"])\n",
    "\n",
    "class FrenchDeck:\n",
    "    ranks = [str(n) for n in range(2,11)] + list(\"JQKA\")\n",
    "    suits = \"spades diamonds clubs hearts\".split()\n",
    "    \n",
    "    def __init__(self):\n",
    "        self._cards = [Card(rank,suit) for suit in self.suits\n",
    "                                        for rank in self.ranks]\n",
    "        \n",
    "    def __len__(self):\n",
    "        return len(self._cards)\n",
    "    \n",
    "    def __getitem__(self,position):\n",
    "        return self._cards[position]\n"
   ]
  },
  {
   "cell_type": "code",
   "execution_count": null,
   "metadata": {},
   "outputs": [],
   "source": []
  },
  {
   "cell_type": "code",
   "execution_count": 17,
   "metadata": {},
   "outputs": [
    {
     "data": {
      "text/plain": [
       "card(rank='7', suit='diamond')"
      ]
     },
     "execution_count": 17,
     "metadata": {},
     "output_type": "execute_result"
    }
   ],
   "source": [
    "beer_card =  Card(\"7\",\"diamond\")\n",
    "beer_card"
   ]
  },
  {
   "cell_type": "code",
   "execution_count": 18,
   "metadata": {},
   "outputs": [
    {
     "name": "stdout",
     "output_type": "stream",
     "text": [
      "52\n",
      "card(rank='2', suit='spades')\n",
      "card(rank='K', suit='spades')\n"
     ]
    }
   ],
   "source": [
    "deck = FrenchDeck()\n",
    "print(len(deck))\n",
    "print(deck[0])\n",
    "print(deck[11])"
   ]
  },
  {
   "cell_type": "code",
   "execution_count": 20,
   "metadata": {},
   "outputs": [
    {
     "data": {
      "text/plain": [
       "card(rank='6', suit='clubs')"
      ]
     },
     "execution_count": 20,
     "metadata": {},
     "output_type": "execute_result"
    }
   ],
   "source": [
    "from random import choice\n",
    "# help(choice)\n",
    "choice(deck)\n",
    "\n"
   ]
  },
  {
   "cell_type": "code",
   "execution_count": 21,
   "metadata": {},
   "outputs": [
    {
     "name": "stdout",
     "output_type": "stream",
     "text": [
      "card(rank='A', suit='hearts')\n",
      "card(rank='K', suit='hearts')\n",
      "card(rank='Q', suit='hearts')\n",
      "card(rank='J', suit='hearts')\n",
      "card(rank='10', suit='hearts')\n",
      "card(rank='9', suit='hearts')\n",
      "card(rank='8', suit='hearts')\n",
      "card(rank='7', suit='hearts')\n",
      "card(rank='6', suit='hearts')\n",
      "card(rank='5', suit='hearts')\n",
      "card(rank='4', suit='hearts')\n",
      "card(rank='3', suit='hearts')\n",
      "card(rank='2', suit='hearts')\n",
      "card(rank='A', suit='clubs')\n",
      "card(rank='K', suit='clubs')\n",
      "card(rank='Q', suit='clubs')\n",
      "card(rank='J', suit='clubs')\n",
      "card(rank='10', suit='clubs')\n",
      "card(rank='9', suit='clubs')\n",
      "card(rank='8', suit='clubs')\n",
      "card(rank='7', suit='clubs')\n",
      "card(rank='6', suit='clubs')\n",
      "card(rank='5', suit='clubs')\n",
      "card(rank='4', suit='clubs')\n",
      "card(rank='3', suit='clubs')\n",
      "card(rank='2', suit='clubs')\n",
      "card(rank='A', suit='diamonds')\n",
      "card(rank='K', suit='diamonds')\n",
      "card(rank='Q', suit='diamonds')\n",
      "card(rank='J', suit='diamonds')\n",
      "card(rank='10', suit='diamonds')\n",
      "card(rank='9', suit='diamonds')\n",
      "card(rank='8', suit='diamonds')\n",
      "card(rank='7', suit='diamonds')\n",
      "card(rank='6', suit='diamonds')\n",
      "card(rank='5', suit='diamonds')\n",
      "card(rank='4', suit='diamonds')\n",
      "card(rank='3', suit='diamonds')\n",
      "card(rank='2', suit='diamonds')\n",
      "card(rank='A', suit='spades')\n",
      "card(rank='K', suit='spades')\n",
      "card(rank='Q', suit='spades')\n",
      "card(rank='J', suit='spades')\n",
      "card(rank='10', suit='spades')\n",
      "card(rank='9', suit='spades')\n",
      "card(rank='8', suit='spades')\n",
      "card(rank='7', suit='spades')\n",
      "card(rank='6', suit='spades')\n",
      "card(rank='5', suit='spades')\n",
      "card(rank='4', suit='spades')\n",
      "card(rank='3', suit='spades')\n",
      "card(rank='2', suit='spades')\n"
     ]
    }
   ],
   "source": [
    "for card in reversed(deck):\n",
    "    print(card)"
   ]
  },
  {
   "cell_type": "code",
   "execution_count": 8,
   "metadata": {},
   "outputs": [
    {
     "name": "stdout",
     "output_type": "stream",
     "text": [
      "['J', 'Q', 'K', 'A']\n",
      "['2', '3', '4', '5', '6', '7', '8', '9', '10', 'J', 'Q', 'K', 'A']\n"
     ]
    }
   ],
   "source": [
    "import collections\n",
    "ranks = [str(n) for n in range(2,11)] + list(\"JQKA\")\n",
    "print(list(\"JQKA\"))\n",
    "print(ranks)\n",
    "# help(collections.namedtuple)"
   ]
  },
  {
   "cell_type": "code",
   "execution_count": 24,
   "metadata": {},
   "outputs": [
    {
     "name": "stdout",
     "output_type": "stream",
     "text": [
      "True\n"
     ]
    }
   ],
   "source": [
    "print(Card(\"7\",\"diamonds\") in deck)"
   ]
  },
  {
   "cell_type": "code",
   "execution_count": null,
   "metadata": {},
   "outputs": [],
   "source": [
    "# sorting\n",
    "suit_values=dict(spades=3,hearts=2,diamonds=1,clubs=0)\n",
    "\n",
    "def spades_high(card):\n",
    "    rank_value=FrenchDeck.ranks.index(card.rank)\n",
    "    return rank_value*len(suit_values)+suit_values[card.suit]\n"
   ]
  }
 ],
 "metadata": {
  "kernelspec": {
   "display_name": "Python 3",
   "language": "python",
   "name": "python3"
  },
  "language_info": {
   "codemirror_mode": {
    "name": "ipython",
    "version": 3
   },
   "file_extension": ".py",
   "mimetype": "text/x-python",
   "name": "python",
   "nbconvert_exporter": "python",
   "pygments_lexer": "ipython3",
   "version": "3.7.6"
  }
 },
 "nbformat": 4,
 "nbformat_minor": 4
}
