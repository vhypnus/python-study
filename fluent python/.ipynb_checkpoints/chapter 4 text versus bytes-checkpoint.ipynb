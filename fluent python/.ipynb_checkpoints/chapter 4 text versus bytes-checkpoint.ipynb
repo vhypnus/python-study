{
 "cells": [
  {
   "cell_type": "code",
   "execution_count": 1,
   "metadata": {},
   "outputs": [
    {
     "name": "stdout",
     "output_type": "stream",
     "text": [
      "café,4\n",
      "b'caf\\xc3\\xa9',5\n"
     ]
    }
   ],
   "source": [
    "# encoding and decoding\n",
    "s = 'hello中国'\n",
    "print(s,len(s),sep=\",\")\n",
    "\n",
    "b = s.encode(\"utf-8\")\n",
    "print(b,len(b),sep=\",\")\n"
   ]
  },
  {
   "cell_type": "code",
   "execution_count": null,
   "metadata": {},
   "outputs": [],
   "source": []
  }
 ],
 "metadata": {
  "kernelspec": {
   "display_name": "Python 3",
   "language": "python",
   "name": "python3"
  },
  "language_info": {
   "codemirror_mode": {
    "name": "ipython",
    "version": 3
   },
   "file_extension": ".py",
   "mimetype": "text/x-python",
   "name": "python",
   "nbconvert_exporter": "python",
   "pygments_lexer": "ipython3",
   "version": "3.7.6"
  }
 },
 "nbformat": 4,
 "nbformat_minor": 4
}
