{
 "cells": [
  {
   "cell_type": "code",
   "execution_count": null,
   "metadata": {},
   "outputs": [],
   "source": [
    "# coroutine\n",
    "\n",
    "def simple_coroutine():\n",
    "    print(\"->coroutine started...\")\n",
    "    x = yield\n",
    "    print(\"-> coroutine receive...\",x)\n",
    "    \n",
    "cor = simple_coroutine()\n",
    "print(cor)\n",
    "print(next(cor))"
   ]
  }
 ],
 "metadata": {
  "kernelspec": {
   "display_name": "Python 3",
   "language": "python",
   "name": "python3"
  },
  "language_info": {
   "codemirror_mode": {
    "name": "ipython",
    "version": 3
   },
   "file_extension": ".py",
   "mimetype": "text/x-python",
   "name": "python",
   "nbconvert_exporter": "python",
   "pygments_lexer": "ipython3",
   "version": "3.7.6"
  }
 },
 "nbformat": 4,
 "nbformat_minor": 4
}
