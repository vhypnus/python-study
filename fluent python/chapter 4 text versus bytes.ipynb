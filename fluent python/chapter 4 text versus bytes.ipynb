{
 "cells": [
  {
   "cell_type": "code",
   "execution_count": 2,
   "metadata": {},
   "outputs": [
    {
     "name": "stdout",
     "output_type": "stream",
     "text": [
      "hello中国,7\n",
      "b'hello\\xe4\\xb8\\xad\\xe5\\x9b\\xbd',11\n"
     ]
    }
   ],
   "source": [
    "# encoding and decoding\n",
    "s = 'hello中国'\n",
    "print(s,len(s),sep=\",\")\n",
    "\n",
    "b = s.encode(\"utf-8\")\n",
    "print(b,len(b),sep=\",\")\n"
   ]
  },
  {
   "cell_type": "code",
   "execution_count": null,
   "metadata": {},
   "outputs": [],
   "source": []
  }
 ],
 "metadata": {
  "kernelspec": {
   "display_name": "Python 3",
   "language": "python",
   "name": "python3"
  },
  "language_info": {
   "codemirror_mode": {
    "name": "ipython",
    "version": 3
   },
   "file_extension": ".py",
   "mimetype": "text/x-python",
   "name": "python",
   "nbconvert_exporter": "python",
   "pygments_lexer": "ipython3",
   "version": "3.7.6"
  }
 },
 "nbformat": 4,
 "nbformat_minor": 4
}
