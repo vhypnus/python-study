{
 "cells": [
  {
   "cell_type": "code",
   "execution_count": 2,
   "metadata": {},
   "outputs": [
    {
     "name": "stdout",
     "output_type": "stream",
     "text": [
      "hello, foo\n",
      "i am foo\n",
      "goodby, foo\n"
     ]
    }
   ],
   "source": [
    "def hello(fn):\n",
    "\n",
    "    def wrapper():\n",
    "\n",
    "        print(\"hello, %s\" % fn.__name__)\n",
    "\n",
    "        fn()\n",
    "\n",
    "        print (\"goodby, %s\" % fn.__name__)\n",
    "\n",
    "    return wrapper\n",
    "\n",
    "  \n",
    "\n",
    "@hello\n",
    "\n",
    "def foo():\n",
    "\n",
    "    print(\"i am foo\")\n",
    "\n",
    "  \n",
    "\n",
    "foo()"
   ]
  },
  {
   "cell_type": "code",
   "execution_count": null,
   "metadata": {},
   "outputs": [],
   "source": []
  }
 ],
 "metadata": {
  "kernelspec": {
   "display_name": "Python 3",
   "language": "python",
   "name": "python3"
  },
  "language_info": {
   "codemirror_mode": {
    "name": "ipython",
    "version": 3
   },
   "file_extension": ".py",
   "mimetype": "text/x-python",
   "name": "python",
   "nbconvert_exporter": "python",
   "pygments_lexer": "ipython3",
   "version": "3.7.6"
  }
 },
 "nbformat": 4,
 "nbformat_minor": 4
}
