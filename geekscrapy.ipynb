{
 "cells": [
  {
   "cell_type": "code",
   "execution_count": 1,
   "metadata": {},
   "outputs": [
    {
     "name": "stdout",
     "output_type": "stream",
     "text": [
      "1  done\n",
      "2  done\n",
      "3  done\n",
      "4  done\n",
      "5  done\n",
      "6  done\n",
      "7  done\n",
      "8  done\n",
      "9  done\n",
      "emtpy break out\n",
      "geek finish\n"
     ]
    }
   ],
   "source": [
    "# media\n",
    "import requests\n",
    "import bs4\n",
    "import os\n",
    "import time\n",
    "\n",
    "urltemp,page = \"https://www.geeksforgeeks.org/medium/graph/\",0\n",
    "\n",
    "\n",
    "filename = \"/home/monan/geeksforgeek/geeksforgeek-graph.txt\"\n",
    "fd = os.open(filename,os.O_APPEND|os.O_RDWR|os.O_CREAT)\n",
    "while True:\n",
    "    page += 1\n",
    "    url = \"\".join([urltemp,str(page)])\n",
    "    req = requests.get(url)\n",
    "    soup = bs4.BeautifulSoup(req.content, 'html.parser')\n",
    "    alist = soup.find_all(\"article\")\n",
    "    if len(alist) > 1:\n",
    "        urls = []\n",
    "        \n",
    "        for a in alist:\n",
    "            tag = a.select(\"header>h2>div:nth-of-type(1)>a\")\n",
    "#             print(tag)\n",
    "            urls.append(tag[0][\"href\"])\n",
    "    else:\n",
    "        print(\"emtpy break out\")\n",
    "        break\n",
    "    \n",
    "    strurl = \"\\n\".join(urls)\n",
    "    os.write(fd,bytes(strurl,encoding=\"utf-8\"))\n",
    "    \n",
    "    print(page,\" done\")\n",
    "    time.sleep(1)\n",
    "\n",
    "os.close(fd)\n",
    "print(\"geek finish\")\n"
   ]
  },
  {
   "cell_type": "code",
   "execution_count": null,
   "metadata": {},
   "outputs": [],
   "source": []
  },
  {
   "cell_type": "code",
   "execution_count": 58,
   "metadata": {},
   "outputs": [
    {
     "name": "stdout",
     "output_type": "stream",
     "text": [
      "x\n"
     ]
    }
   ],
   "source": [
    "a = []\n",
    "if a:\n",
    "    print(\"here\")\n",
    "else:\n",
    "    print(\"x\")"
   ]
  },
  {
   "cell_type": "code",
   "execution_count": null,
   "metadata": {},
   "outputs": [],
   "source": []
  }
 ],
 "metadata": {
  "kernelspec": {
   "display_name": "Python 3",
   "language": "python",
   "name": "python3"
  },
  "language_info": {
   "codemirror_mode": {
    "name": "ipython",
    "version": 3
   },
   "file_extension": ".py",
   "mimetype": "text/x-python",
   "name": "python",
   "nbconvert_exporter": "python",
   "pygments_lexer": "ipython3",
   "version": "3.7.6"
  }
 },
 "nbformat": 4,
 "nbformat_minor": 4
}
