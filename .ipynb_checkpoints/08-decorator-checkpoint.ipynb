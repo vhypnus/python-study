{
 "cells": [
  {
   "cell_type": "code",
   "execution_count": 1,
   "metadata": {},
   "outputs": [
    {
     "ename": "SyntaxError",
     "evalue": "Missing parentheses in call to 'print'. Did you mean print(\"hello, %s\" % fn.__name__)? (<ipython-input-1-b9844e5278f6>, line 5)",
     "output_type": "error",
     "traceback": [
      "\u001b[0;36m  File \u001b[0;32m\"<ipython-input-1-b9844e5278f6>\"\u001b[0;36m, line \u001b[0;32m5\u001b[0m\n\u001b[0;31m    print \"hello, %s\" % fn.__name__\u001b[0m\n\u001b[0m                    ^\u001b[0m\n\u001b[0;31mSyntaxError\u001b[0m\u001b[0;31m:\u001b[0m Missing parentheses in call to 'print'. Did you mean print(\"hello, %s\" % fn.__name__)?\n"
     ]
    }
   ],
   "source": [
    "def hello(fn):\n",
    "\n",
    "    def wrapper():\n",
    "\n",
    "        print(\"hello, %s\" % fn.__name__)\n",
    "\n",
    "        fn()\n",
    "\n",
    "        print (\"goodby, %s\" % fn.__name__)\n",
    "\n",
    "    return wrapper\n",
    "\n",
    "  \n",
    "\n",
    "@hello\n",
    "\n",
    "def foo():\n",
    "\n",
    "    print(\"i am foo\")\n",
    "\n",
    "  \n",
    "\n",
    "foo()"
   ]
  },
  {
   "cell_type": "code",
   "execution_count": null,
   "metadata": {},
   "outputs": [],
   "source": []
  }
 ],
 "metadata": {
  "kernelspec": {
   "display_name": "Python 3",
   "language": "python",
   "name": "python3"
  },
  "language_info": {
   "codemirror_mode": {
    "name": "ipython",
    "version": 3
   },
   "file_extension": ".py",
   "mimetype": "text/x-python",
   "name": "python",
   "nbconvert_exporter": "python",
   "pygments_lexer": "ipython3",
   "version": "3.7.6"
  }
 },
 "nbformat": 4,
 "nbformat_minor": 4
}
